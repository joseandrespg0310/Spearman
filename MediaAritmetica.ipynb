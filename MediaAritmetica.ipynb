{
 "cells": [
  {
   "cell_type": "markdown",
   "metadata": {},
   "source": [
    "# Medidas de Tendencia Central"
   ]
  },
  {
   "cell_type": "code",
   "execution_count": 1,
   "metadata": {},
   "outputs": [],
   "source": [
    "#import libreria Pandas\n",
    "import pandas as pd"
   ]
  },
  {
   "cell_type": "code",
   "execution_count": 8,
   "metadata": {},
   "outputs": [],
   "source": [
    "ejemplos_datos={'Nombre':['Gabriel','Conrado','Cristhian','Tristan','Amira','Abril'],'Genero':['M','M','M','M','F','F'],'Puntuacion_Habilidades_Comunicativas':[80,70,56,56,57,56],'Puntuacion':[80,70,56,57,56,78]}"
   ]
  },
  {
   "cell_type": "code",
   "execution_count": 9,
   "metadata": {},
   "outputs": [
    {
     "data": {
      "text/html": [
       "<div>\n",
       "<style scoped>\n",
       "    .dataframe tbody tr th:only-of-type {\n",
       "        vertical-align: middle;\n",
       "    }\n",
       "\n",
       "    .dataframe tbody tr th {\n",
       "        vertical-align: top;\n",
       "    }\n",
       "\n",
       "    .dataframe thead th {\n",
       "        text-align: right;\n",
       "    }\n",
       "</style>\n",
       "<table border=\"1\" class=\"dataframe\">\n",
       "  <thead>\n",
       "    <tr style=\"text-align: right;\">\n",
       "      <th></th>\n",
       "      <th>Nombre</th>\n",
       "      <th>Genero</th>\n",
       "      <th>Puntuacion_Habilidades_Comunicativas</th>\n",
       "      <th>Puntuacion</th>\n",
       "    </tr>\n",
       "  </thead>\n",
       "  <tbody>\n",
       "    <tr>\n",
       "      <th>0</th>\n",
       "      <td>Gabriel</td>\n",
       "      <td>M</td>\n",
       "      <td>80</td>\n",
       "      <td>80</td>\n",
       "    </tr>\n",
       "    <tr>\n",
       "      <th>1</th>\n",
       "      <td>Conrado</td>\n",
       "      <td>M</td>\n",
       "      <td>70</td>\n",
       "      <td>70</td>\n",
       "    </tr>\n",
       "    <tr>\n",
       "      <th>2</th>\n",
       "      <td>Cristhian</td>\n",
       "      <td>M</td>\n",
       "      <td>56</td>\n",
       "      <td>56</td>\n",
       "    </tr>\n",
       "    <tr>\n",
       "      <th>3</th>\n",
       "      <td>Tristan</td>\n",
       "      <td>M</td>\n",
       "      <td>56</td>\n",
       "      <td>57</td>\n",
       "    </tr>\n",
       "    <tr>\n",
       "      <th>4</th>\n",
       "      <td>Amira</td>\n",
       "      <td>F</td>\n",
       "      <td>57</td>\n",
       "      <td>56</td>\n",
       "    </tr>\n",
       "    <tr>\n",
       "      <th>5</th>\n",
       "      <td>Abril</td>\n",
       "      <td>F</td>\n",
       "      <td>56</td>\n",
       "      <td>78</td>\n",
       "    </tr>\n",
       "  </tbody>\n",
       "</table>\n",
       "</div>"
      ],
      "text/plain": [
       "      Nombre Genero  Puntuacion_Habilidades_Comunicativas  Puntuacion\n",
       "0    Gabriel      M                                    80          80\n",
       "1    Conrado      M                                    70          70\n",
       "2  Cristhian      M                                    56          56\n",
       "3    Tristan      M                                    56          57\n",
       "4      Amira      F                                    57          56\n",
       "5      Abril      F                                    56          78"
      ]
     },
     "execution_count": 9,
     "metadata": {},
     "output_type": "execute_result"
    }
   ],
   "source": [
    "datos=pd.DataFrame(ejemplos_datos,columns=['Nombre','Genero','Puntuacion_Habilidades_Comunicativas','Puntuacion'])\n",
    "datos.head(6)\n"
   ]
  },
  {
   "cell_type": "code",
   "execution_count": 10,
   "metadata": {},
   "outputs": [
    {
     "data": {
      "text/plain": [
       "np.float64(62.5)"
      ]
     },
     "execution_count": 10,
     "metadata": {},
     "output_type": "execute_result"
    }
   ],
   "source": [
    "# Calcula la media aritmetica\n",
    "datos['Puntuacion_Habilidades_Comunicativas'].mean(axis=0)"
   ]
  },
  {
   "cell_type": "markdown",
   "metadata": {},
   "source": [
    "# moda"
   ]
  },
  {
   "cell_type": "code",
   "execution_count": 11,
   "metadata": {},
   "outputs": [
    {
     "data": {
      "text/plain": [
       "0    56\n",
       "Name: Puntuacion_Habilidades_Comunicativas, dtype: int64"
      ]
     },
     "execution_count": 11,
     "metadata": {},
     "output_type": "execute_result"
    }
   ],
   "source": [
    "# Calcula la moda de Puntuacion_Habilidades_Comunicativas\n",
    "datos['Puntuacion_Habilidades_Comunicativas'].mode()"
   ]
  },
  {
   "cell_type": "markdown",
   "metadata": {},
   "source": [
    "# Media\n"
   ]
  },
  {
   "cell_type": "code",
   "execution_count": 12,
   "metadata": {},
   "outputs": [
    {
     "data": {
      "text/plain": [
       "np.float64(56.5)"
      ]
     },
     "execution_count": 12,
     "metadata": {},
     "output_type": "execute_result"
    }
   ],
   "source": [
    "datos['Puntuacion_Habilidades_Comunicativas'].median()"
   ]
  },
  {
   "cell_type": "markdown",
   "metadata": {},
   "source": [
    "## MEDIDAS DE DISPERSION"
   ]
  },
  {
   "cell_type": "markdown",
   "metadata": {},
   "source": [
    "# Rango"
   ]
  },
  {
   "cell_type": "code",
   "execution_count": 13,
   "metadata": {},
   "outputs": [
    {
     "name": "stdout",
     "output_type": "stream",
     "text": [
      "24\n"
     ]
    }
   ],
   "source": [
    "columna_rango=datos['Puntuacion_Habilidades_Comunicativas'].max()-datos['Puntuacion_Habilidades_Comunicativas'].min()\n",
    "print(columna_rango)"
   ]
  },
  {
   "cell_type": "markdown",
   "metadata": {},
   "source": [
    "# Rango Intercuartilico"
   ]
  },
  {
   "cell_type": "code",
   "execution_count": 14,
   "metadata": {},
   "outputs": [
    {
     "name": "stdout",
     "output_type": "stream",
     "text": [
      "56.0\n",
      "66.75\n"
     ]
    }
   ],
   "source": [
    "#Calcula rango intercuartilago\n",
    "# Calcula el cuartl 1\n",
    "q1=datos['Puntuacion_Habilidades_Comunicativas'].quantile(.25)\n",
    "print(q1)\n",
    "#Calcula cuartil 3\n",
    "q3=datos['Puntuacion_Habilidades_Comunicativas'].quantile(.75)\n",
    "print(q3)"
   ]
  },
  {
   "cell_type": "code",
   "execution_count": 15,
   "metadata": {},
   "outputs": [
    {
     "name": "stdout",
     "output_type": "stream",
     "text": [
      "10.75\n"
     ]
    }
   ],
   "source": [
    "iqr=q3-q1\n",
    "print(iqr)"
   ]
  },
  {
   "cell_type": "code",
   "execution_count": 16,
   "metadata": {},
   "outputs": [
    {
     "data": {
      "text/plain": [
       "np.float64(103.9)"
      ]
     },
     "execution_count": 16,
     "metadata": {},
     "output_type": "execute_result"
    }
   ],
   "source": [
    "#Calcula varianza de la \n",
    "datos['Puntuacion_Habilidades_Comunicativas'].var()"
   ]
  },
  {
   "cell_type": "code",
   "execution_count": 17,
   "metadata": {},
   "outputs": [
    {
     "data": {
      "text/plain": [
       "np.float64(10.193134944657606)"
      ]
     },
     "execution_count": 17,
     "metadata": {},
     "output_type": "execute_result"
    }
   ],
   "source": [
    "# calcula desviacion estandar\n",
    "datos['Puntuacion_Habilidades_Comunicativas'].std()\n"
   ]
  },
  {
   "cell_type": "code",
   "execution_count": 18,
   "metadata": {},
   "outputs": [
    {
     "data": {
      "text/html": [
       "<div>\n",
       "<style scoped>\n",
       "    .dataframe tbody tr th:only-of-type {\n",
       "        vertical-align: middle;\n",
       "    }\n",
       "\n",
       "    .dataframe tbody tr th {\n",
       "        vertical-align: top;\n",
       "    }\n",
       "\n",
       "    .dataframe thead th {\n",
       "        text-align: right;\n",
       "    }\n",
       "</style>\n",
       "<table border=\"1\" class=\"dataframe\">\n",
       "  <thead>\n",
       "    <tr style=\"text-align: right;\">\n",
       "      <th></th>\n",
       "      <th>Puntuacion_Habilidades_Comunicativas</th>\n",
       "      <th>Puntuacion</th>\n",
       "    </tr>\n",
       "  </thead>\n",
       "  <tbody>\n",
       "    <tr>\n",
       "      <th>count</th>\n",
       "      <td>6.000000</td>\n",
       "      <td>6.000000</td>\n",
       "    </tr>\n",
       "    <tr>\n",
       "      <th>mean</th>\n",
       "      <td>62.500000</td>\n",
       "      <td>66.166667</td>\n",
       "    </tr>\n",
       "    <tr>\n",
       "      <th>std</th>\n",
       "      <td>10.193135</td>\n",
       "      <td>11.285684</td>\n",
       "    </tr>\n",
       "    <tr>\n",
       "      <th>min</th>\n",
       "      <td>56.000000</td>\n",
       "      <td>56.000000</td>\n",
       "    </tr>\n",
       "    <tr>\n",
       "      <th>25%</th>\n",
       "      <td>56.000000</td>\n",
       "      <td>56.250000</td>\n",
       "    </tr>\n",
       "    <tr>\n",
       "      <th>50%</th>\n",
       "      <td>56.500000</td>\n",
       "      <td>63.500000</td>\n",
       "    </tr>\n",
       "    <tr>\n",
       "      <th>75%</th>\n",
       "      <td>66.750000</td>\n",
       "      <td>76.000000</td>\n",
       "    </tr>\n",
       "    <tr>\n",
       "      <th>max</th>\n",
       "      <td>80.000000</td>\n",
       "      <td>80.000000</td>\n",
       "    </tr>\n",
       "  </tbody>\n",
       "</table>\n",
       "</div>"
      ],
      "text/plain": [
       "       Puntuacion_Habilidades_Comunicativas  Puntuacion\n",
       "count                              6.000000    6.000000\n",
       "mean                              62.500000   66.166667\n",
       "std                               10.193135   11.285684\n",
       "min                               56.000000   56.000000\n",
       "25%                               56.000000   56.250000\n",
       "50%                               56.500000   63.500000\n",
       "75%                               66.750000   76.000000\n",
       "max                               80.000000   80.000000"
      ]
     },
     "execution_count": 18,
     "metadata": {},
     "output_type": "execute_result"
    }
   ],
   "source": [
    "# calcula desviacion estandar\n",
    "datos.describe()"
   ]
  },
  {
   "cell_type": "markdown",
   "metadata": {},
   "source": [
    "## MEDIDAS DE FORMA Y CURTOSIS"
   ]
  },
  {
   "cell_type": "code",
   "execution_count": 19,
   "metadata": {},
   "outputs": [
    {
     "data": {
      "text/plain": [
       "np.float64(1.3571382915159942)"
      ]
     },
     "execution_count": 19,
     "metadata": {},
     "output_type": "execute_result"
    }
   ],
   "source": [
    "# Calcula varianza de Puntucacion de \n",
    "datos['Puntuacion_Habilidades_Comunicativas'].skew()"
   ]
  },
  {
   "cell_type": "code",
   "execution_count": 20,
   "metadata": {},
   "outputs": [
    {
     "data": {
      "text/plain": [
       "np.float64(0.4433725698712667)"
      ]
     },
     "execution_count": 20,
     "metadata": {},
     "output_type": "execute_result"
    }
   ],
   "source": [
    "# calcula coeficinete de curtosisi de la Puntuacion_Habilidades_Comunicativas\n",
    "datos['Puntuacion_Habilidades_Comunicativas'].kurtosis()"
   ]
  },
  {
   "cell_type": "markdown",
   "metadata": {},
   "source": [
    "# Coeficientes de covariana y correlacion"
   ]
  },
  {
   "cell_type": "code",
   "execution_count": 25,
   "metadata": {},
   "outputs": [
    {
     "data": {
      "text/plain": [
       "<bound method DataFrame.cov of       Nombre Genero  Puntuacion_Habilidades_Comunicativas  Puntuacion\n",
       "0    Gabriel      M                                    80          80\n",
       "1    Conrado      M                                    70          70\n",
       "2  Cristhian      M                                    56          56\n",
       "3    Tristan      M                                    56          57\n",
       "4      Amira      F                                    57          56\n",
       "5      Abril      F                                    56          78>"
      ]
     },
     "execution_count": 25,
     "metadata": {},
     "output_type": "execute_result"
    }
   ],
   "source": [
    "datos.cov"
   ]
  },
  {
   "cell_type": "markdown",
   "metadata": {},
   "source": []
  },
  {
   "cell_type": "code",
   "execution_count": 24,
   "metadata": {},
   "outputs": [
    {
     "data": {
      "text/html": [
       "<div>\n",
       "<style scoped>\n",
       "    .dataframe tbody tr th:only-of-type {\n",
       "        vertical-align: middle;\n",
       "    }\n",
       "\n",
       "    .dataframe tbody tr th {\n",
       "        vertical-align: top;\n",
       "    }\n",
       "\n",
       "    .dataframe thead th {\n",
       "        text-align: right;\n",
       "    }\n",
       "</style>\n",
       "<table border=\"1\" class=\"dataframe\">\n",
       "  <thead>\n",
       "    <tr style=\"text-align: right;\">\n",
       "      <th></th>\n",
       "      <th>Puntuacion_Habilidades_Comunicativas</th>\n",
       "      <th>Puntuacion</th>\n",
       "    </tr>\n",
       "  </thead>\n",
       "  <tbody>\n",
       "    <tr>\n",
       "      <th>Puntuacion_Habilidades_Comunicativas</th>\n",
       "      <td>103.9</td>\n",
       "      <td>75.100000</td>\n",
       "    </tr>\n",
       "    <tr>\n",
       "      <th>Puntuacion</th>\n",
       "      <td>75.1</td>\n",
       "      <td>127.366667</td>\n",
       "    </tr>\n",
       "  </tbody>\n",
       "</table>\n",
       "</div>"
      ],
      "text/plain": [
       "                                      Puntuacion_Habilidades_Comunicativas  \\\n",
       "Puntuacion_Habilidades_Comunicativas                                 103.9   \n",
       "Puntuacion                                                            75.1   \n",
       "\n",
       "                                      Puntuacion  \n",
       "Puntuacion_Habilidades_Comunicativas   75.100000  \n",
       "Puntuacion                            127.366667  "
      ]
     },
     "execution_count": 24,
     "metadata": {},
     "output_type": "execute_result"
    }
   ],
   "source": [
    "datos[['Puntuacion_Habilidades_Comunicativas','Puntuacion']].cov()"
   ]
  },
  {
   "cell_type": "markdown",
   "metadata": {},
   "source": [
    "# Coeficiente de corelacion de Pearson"
   ]
  },
  {
   "cell_type": "code",
   "execution_count": 29,
   "metadata": {},
   "outputs": [
    {
     "data": {
      "text/html": [
       "<div>\n",
       "<style scoped>\n",
       "    .dataframe tbody tr th:only-of-type {\n",
       "        vertical-align: middle;\n",
       "    }\n",
       "\n",
       "    .dataframe tbody tr th {\n",
       "        vertical-align: top;\n",
       "    }\n",
       "\n",
       "    .dataframe thead th {\n",
       "        text-align: right;\n",
       "    }\n",
       "</style>\n",
       "<table border=\"1\" class=\"dataframe\">\n",
       "  <thead>\n",
       "    <tr style=\"text-align: right;\">\n",
       "      <th></th>\n",
       "      <th>Puntuacion_Habilidades_Comunicativas</th>\n",
       "      <th>Puntuacion</th>\n",
       "    </tr>\n",
       "  </thead>\n",
       "  <tbody>\n",
       "    <tr>\n",
       "      <th>Puntuacion_Habilidades_Comunicativas</th>\n",
       "      <td>1.000000</td>\n",
       "      <td>0.652836</td>\n",
       "    </tr>\n",
       "    <tr>\n",
       "      <th>Puntuacion</th>\n",
       "      <td>0.652836</td>\n",
       "      <td>1.000000</td>\n",
       "    </tr>\n",
       "  </tbody>\n",
       "</table>\n",
       "</div>"
      ],
      "text/plain": [
       "                                      Puntuacion_Habilidades_Comunicativas  \\\n",
       "Puntuacion_Habilidades_Comunicativas                              1.000000   \n",
       "Puntuacion                                                        0.652836   \n",
       "\n",
       "                                      Puntuacion  \n",
       "Puntuacion_Habilidades_Comunicativas    0.652836  \n",
       "Puntuacion                              1.000000  "
      ]
     },
     "execution_count": 29,
     "metadata": {},
     "output_type": "execute_result"
    }
   ],
   "source": [
    "# CALCULA EL COEFICIENTE CORRELACION DE PEARSON EN LAS COLUMNAS DE DATAFRAME\n",
    "datos[['Puntuacion_Habilidades_Comunicativas','Puntuacion']].corr(method='pearson')"
   ]
  },
  {
   "cell_type": "code",
   "execution_count": 33,
   "metadata": {},
   "outputs": [
    {
     "data": {
      "text/html": [
       "<div>\n",
       "<style scoped>\n",
       "    .dataframe tbody tr th:only-of-type {\n",
       "        vertical-align: middle;\n",
       "    }\n",
       "\n",
       "    .dataframe tbody tr th {\n",
       "        vertical-align: top;\n",
       "    }\n",
       "\n",
       "    .dataframe thead th {\n",
       "        text-align: right;\n",
       "    }\n",
       "</style>\n",
       "<table border=\"1\" class=\"dataframe\">\n",
       "  <thead>\n",
       "    <tr style=\"text-align: right;\">\n",
       "      <th></th>\n",
       "      <th>Puntuacion_Habilidades_Comunicativas</th>\n",
       "      <th>Puntuacion</th>\n",
       "    </tr>\n",
       "  </thead>\n",
       "  <tbody>\n",
       "    <tr>\n",
       "      <th>Puntuacion_Habilidades_Comunicativas</th>\n",
       "      <td>1.000000</td>\n",
       "      <td>0.462031</td>\n",
       "    </tr>\n",
       "    <tr>\n",
       "      <th>Puntuacion</th>\n",
       "      <td>0.462031</td>\n",
       "      <td>1.000000</td>\n",
       "    </tr>\n",
       "  </tbody>\n",
       "</table>\n",
       "</div>"
      ],
      "text/plain": [
       "                                      Puntuacion_Habilidades_Comunicativas  \\\n",
       "Puntuacion_Habilidades_Comunicativas                              1.000000   \n",
       "Puntuacion                                                        0.462031   \n",
       "\n",
       "                                      Puntuacion  \n",
       "Puntuacion_Habilidades_Comunicativas    0.462031  \n",
       "Puntuacion                              1.000000  "
      ]
     },
     "execution_count": 33,
     "metadata": {},
     "output_type": "execute_result"
    }
   ],
   "source": [
    "# CALCULA EL COEFICIENTE CORRELACION DE PEARSON EN LAS COLUMNAS DE DATAFRAME\n",
    "datos[['Puntuacion_Habilidades_Comunicativas','Puntuacion']].corr(method='spearman')"
   ]
  }
 ],
 "metadata": {
  "kernelspec": {
   "display_name": ".venv",
   "language": "python",
   "name": "python3"
  },
  "language_info": {
   "codemirror_mode": {
    "name": "ipython",
    "version": 3
   },
   "file_extension": ".py",
   "mimetype": "text/x-python",
   "name": "python",
   "nbconvert_exporter": "python",
   "pygments_lexer": "ipython3",
   "version": "3.10.2"
  }
 },
 "nbformat": 4,
 "nbformat_minor": 2
}
